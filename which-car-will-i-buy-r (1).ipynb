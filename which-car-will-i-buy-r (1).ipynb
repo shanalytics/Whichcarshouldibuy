{
 "cells": [
  {
   "cell_type": "code",
   "execution_count": 1,
   "id": "c88d8534",
   "metadata": {
    "execution": {
     "iopub.execute_input": "2023-05-18T15:57:18.403473Z",
     "iopub.status.busy": "2023-05-18T15:57:18.399309Z",
     "iopub.status.idle": "2023-05-18T16:02:33.256286Z",
     "shell.execute_reply": "2023-05-18T16:02:33.252411Z"
    },
    "papermill": {
     "duration": 314.881883,
     "end_time": "2023-05-18T16:02:33.264046",
     "exception": true,
     "start_time": "2023-05-18T15:57:18.382163",
     "status": "failed"
    },
    "tags": []
   },
   "outputs": [
    {
     "name": "stderr",
     "output_type": "stream",
     "text": [
      "Installing package into ‘/usr/local/lib/R/site-library’\n",
      "(as ‘lib’ is unspecified)\n",
      "\n",
      "Installing package into ‘/usr/local/lib/R/site-library’\n",
      "(as ‘lib’ is unspecified)\n",
      "\n",
      "also installing the dependency ‘rlang’\n",
      "\n",
      "\n",
      "Warning message in install.packages(\"ggplot2\"):\n",
      "“installation of package ‘rlang’ had non-zero exit status”\n",
      "Warning message in install.packages(\"ggplot2\"):\n",
      "“installation of package ‘ggplot2’ had non-zero exit status”\n",
      "Installing package into ‘/usr/local/lib/R/site-library’\n",
      "(as ‘lib’ is unspecified)\n",
      "\n",
      "Installing package into ‘/usr/local/lib/R/site-library’\n",
      "(as ‘lib’ is unspecified)\n",
      "\n",
      "also installing the dependencies ‘pillar’, ‘rlang’, ‘tibble’, ‘vctrs’\n",
      "\n",
      "\n",
      "Warning message in install.packages(\"dplyr\"):\n",
      "“installation of package ‘rlang’ had non-zero exit status”\n",
      "Warning message in install.packages(\"dplyr\"):\n",
      "“installation of package ‘vctrs’ had non-zero exit status”\n",
      "Warning message in install.packages(\"dplyr\"):\n",
      "“installation of package ‘pillar’ had non-zero exit status”\n",
      "Warning message in install.packages(\"dplyr\"):\n",
      "“installation of package ‘tibble’ had non-zero exit status”\n",
      "Warning message in install.packages(\"dplyr\"):\n",
      "“installation of package ‘dplyr’ had non-zero exit status”\n",
      "Installing package into ‘/usr/local/lib/R/site-library’\n",
      "(as ‘lib’ is unspecified)\n",
      "\n",
      "Installing package into ‘/usr/local/lib/R/site-library’\n",
      "(as ‘lib’ is unspecified)\n",
      "\n",
      "Installing package into ‘/usr/local/lib/R/site-library’\n",
      "(as ‘lib’ is unspecified)\n",
      "\n",
      "Installing package into ‘/usr/local/lib/R/site-library’\n",
      "(as ‘lib’ is unspecified)\n",
      "\n",
      "Warning message:\n",
      "“dependency ‘pbkrtest’ is not available”\n",
      "also installing the dependencies ‘car’, ‘rstatix’\n",
      "\n",
      "\n",
      "Warning message in install.packages(\"ggpubr\"):\n",
      "“installation of package ‘car’ had non-zero exit status”\n",
      "Warning message in install.packages(\"ggpubr\"):\n",
      "“installation of package ‘rstatix’ had non-zero exit status”\n",
      "Warning message in install.packages(\"ggpubr\"):\n",
      "“installation of package ‘ggpubr’ had non-zero exit status”\n",
      "Installing package into ‘/usr/local/lib/R/site-library’\n",
      "(as ‘lib’ is unspecified)\n",
      "\n",
      "Installing package into ‘/usr/local/lib/R/site-library’\n",
      "(as ‘lib’ is unspecified)\n",
      "\n",
      "also installing the dependencies ‘pillar’, ‘vctrs’, ‘broom’, ‘cli’, ‘dials’, ‘dplyr’, ‘ggplot2’, ‘hardhat’, ‘parsnip’, ‘recipes’, ‘rlang’, ‘tibble’, ‘tune’, ‘workflowsets’, ‘yardstick’\n",
      "\n",
      "\n",
      "Warning message in install.packages(\"tidymodels\"):\n",
      "“installation of package ‘cli’ had non-zero exit status”\n",
      "Warning message in install.packages(\"tidymodels\"):\n",
      "“installation of package ‘rlang’ had non-zero exit status”\n",
      "Warning message in install.packages(\"tidymodels\"):\n",
      "“installation of package ‘vctrs’ had non-zero exit status”\n",
      "Warning message in install.packages(\"tidymodels\"):\n",
      "“installation of package ‘pillar’ had non-zero exit status”\n",
      "Warning message in install.packages(\"tidymodels\"):\n",
      "“installation of package ‘tibble’ had non-zero exit status”\n",
      "Warning message in install.packages(\"tidymodels\"):\n",
      "“installation of package ‘dplyr’ had non-zero exit status”\n",
      "Warning message in install.packages(\"tidymodels\"):\n",
      "“installation of package ‘ggplot2’ had non-zero exit status”\n",
      "Warning message in install.packages(\"tidymodels\"):\n",
      "“installation of package ‘hardhat’ had non-zero exit status”\n",
      "Warning message in install.packages(\"tidymodels\"):\n",
      "“installation of package ‘dials’ had non-zero exit status”\n",
      "Warning message in install.packages(\"tidymodels\"):\n",
      "“installation of package ‘parsnip’ had non-zero exit status”\n",
      "Warning message in install.packages(\"tidymodels\"):\n",
      "“installation of package ‘recipes’ had non-zero exit status”\n",
      "Warning message in install.packages(\"tidymodels\"):\n",
      "“installation of package ‘tune’ had non-zero exit status”\n",
      "Warning message in install.packages(\"tidymodels\"):\n",
      "“installation of package ‘workflowsets’ had non-zero exit status”\n",
      "Warning message in install.packages(\"tidymodels\"):\n",
      "“installation of package ‘tidymodels’ had non-zero exit status”\n",
      "── \u001b[1mAttaching core tidyverse packages\u001b[22m ──────────────────────── tidyverse 2.0.0 ──\n",
      "\u001b[32m✔\u001b[39m \u001b[34mdplyr    \u001b[39m 1.1.0     \u001b[32m✔\u001b[39m \u001b[34mreadr    \u001b[39m 2.1.4\n",
      "\u001b[32m✔\u001b[39m \u001b[34mforcats  \u001b[39m 1.0.0     \u001b[32m✔\u001b[39m \u001b[34mstringr  \u001b[39m 1.5.0\n",
      "\u001b[32m✔\u001b[39m \u001b[34mggplot2  \u001b[39m 3.4.1     \u001b[32m✔\u001b[39m \u001b[34mtibble   \u001b[39m 3.1.8\n",
      "\u001b[32m✔\u001b[39m \u001b[34mlubridate\u001b[39m 1.9.2     \u001b[32m✔\u001b[39m \u001b[34mtidyr    \u001b[39m 1.3.0\n",
      "\u001b[32m✔\u001b[39m \u001b[34mpurrr    \u001b[39m 1.0.1     \n",
      "── \u001b[1mConflicts\u001b[22m ────────────────────────────────────────── tidyverse_conflicts() ──\n",
      "\u001b[31m✖\u001b[39m \u001b[34mdplyr\u001b[39m::\u001b[32mfilter()\u001b[39m masks \u001b[34mstats\u001b[39m::filter()\n",
      "\u001b[31m✖\u001b[39m \u001b[34mdplyr\u001b[39m::\u001b[32mlag()\u001b[39m    masks \u001b[34mstats\u001b[39m::lag()\n",
      "\u001b[36mℹ\u001b[39m Use the conflicted package (\u001b[3m\u001b[34m<http://conflicted.r-lib.org/>\u001b[39m\u001b[23m) to force all conflicts to become errors\n",
      "here() starts at /kaggle/working\n",
      "\n",
      "\n",
      "Attaching package: ‘janitor’\n",
      "\n",
      "\n",
      "The following objects are masked from ‘package:stats’:\n",
      "\n",
      "    chisq.test, fisher.test\n",
      "\n",
      "\n"
     ]
    },
    {
     "ename": "ERROR",
     "evalue": "Error in library(\"ggpubr\"): there is no package called ‘ggpubr’\n",
     "output_type": "error",
     "traceback": [
      "Error in library(\"ggpubr\"): there is no package called ‘ggpubr’\nTraceback:\n",
      "1. library(\"ggpubr\")"
     ]
    }
   ],
   "source": [
    "#**install packages for analysis *\n",
    "install.packages(\"tidyverse\")\n",
    "install.packages(\"ggplot2\")\n",
    "install.packages(\"lubridate\")\n",
    "install.packages(\"dplyr\")\n",
    "install.packages(\"here\")\n",
    "install.packages(\"skimr\")\n",
    "install.packages(\"janitor\")\n",
    "install.packages(\"ggpubr\")\n",
    "install.packages(\"ggrepel\")\n",
    "install.packages(\"tidymodels\")\n",
    "  \n",
    "library(\"tidyverse\")\n",
    "#helps wrangle the data\n",
    "library(\"ggplot2\")\n",
    "#helps visualize the data\n",
    "library(\"lubridate\")\n",
    "#helps wrangle date attributes\n",
    "library(\"dplyr\")\n",
    "library(\"here\")\n",
    "# enables easy file referencing by using the top-level directory of a file project to easily build file path # nolint # nolint: line_length_linter.\n",
    "library(\"skimr\")\n",
    "#is designed to provide summary statistics about variables in data frames, tibbles, data tables and vectors # nolint: line_length_linter.\n",
    "library(\"janitor\")\n",
    "#perfectly format data.frame column names; provide quick counts of variable combinations ( # nolint: line_length_linter, line_length_linter.\n",
    "library(\"ggpubr\")\n",
    "#facilitates the creation of beautiful ggplot2-based graphs for researcher with non-advanced programming backgrounds # nolint: line_length_linter.\n",
    "library(\"ggrepel\")\n",
    "#Provides text and label geoms for 'ggplot2' that help to avoid overlapping text labels. # nolint: line_length_linter.\n",
    "library(\"tidymodels\")\n",
    "#used for for modeling and statistical analysis that share the underlying design philosophy, grammar # nolint: line_length_linter, line_length_linter.\n"
   ]
  },
  {
   "cell_type": "code",
   "execution_count": null,
   "id": "3aaec876",
   "metadata": {
    "execution": {
     "iopub.execute_input": "2023-05-18T15:25:08.016664Z",
     "iopub.status.busy": "2023-05-18T15:25:08.014500Z",
     "iopub.status.idle": "2023-05-18T15:25:08.036984Z"
    },
    "papermill": {
     "duration": null,
     "end_time": null,
     "exception": null,
     "start_time": null,
     "status": "pending"
    },
    "tags": []
   },
   "outputs": [],
   "source": [
    "getwd()\n",
    "setwd('/kaggle/working')"
   ]
  },
  {
   "cell_type": "code",
   "execution_count": null,
   "id": "3730271f",
   "metadata": {
    "execution": {
     "iopub.execute_input": "2023-05-18T15:26:07.065015Z",
     "iopub.status.busy": "2023-05-18T15:26:07.062296Z",
     "iopub.status.idle": "2023-05-18T15:26:07.124866Z"
    },
    "papermill": {
     "duration": null,
     "end_time": null,
     "exception": null,
     "start_time": null,
     "status": "pending"
    },
    "tags": []
   },
   "outputs": [],
   "source": [
    "car_data <- read.csv(\"/kaggle/input/cardata/car data.csv\")\n",
    "head(car_data)"
   ]
  },
  {
   "cell_type": "markdown",
   "id": "3733f86d",
   "metadata": {
    "papermill": {
     "duration": null,
     "end_time": null,
     "exception": null,
     "start_time": null,
     "status": "pending"
    },
    "tags": []
   },
   "source": [
    "Upon loading the data, our investigation will focus on analyzing the data properties and performing data cleaning procedures to achieve the most favorable outcome in order to derive optimal solutions.\n"
   ]
  },
  {
   "cell_type": "code",
   "execution_count": null,
   "id": "de4236ab",
   "metadata": {
    "execution": {
     "iopub.execute_input": "2023-05-18T15:26:15.841119Z",
     "iopub.status.busy": "2023-05-18T15:26:15.839323Z",
     "iopub.status.idle": "2023-05-18T15:26:15.869910Z"
    },
    "papermill": {
     "duration": null,
     "end_time": null,
     "exception": null,
     "start_time": null,
     "status": "pending"
    },
    "tags": []
   },
   "outputs": [],
   "source": [
    "colnames(car_data)\n",
    "dim(car_data)"
   ]
  },
  {
   "cell_type": "markdown",
   "id": "899e6fe0",
   "metadata": {
    "papermill": {
     "duration": null,
     "end_time": null,
     "exception": null,
     "start_time": null,
     "status": "pending"
    },
    "tags": []
   },
   "source": [
    "After looking at the dimensions, our data has 301 rows and 9 columns. Here is the inferred data type for each variable:\n",
    "  \n",
    "  1.  \"Car_Name\": Categorical data type representing the name of the car.\n",
    "\n",
    "2.  \"Year\": Numeric data type representing the manufacturing year of the car.\n",
    "\n",
    "3.  \"Selling_Price\": Numeric data type representing the selling price of the car.\n",
    "\n",
    "4.  \"Present_Price\": Numeric data type representing the present price or market value of the car.\n",
    "\n",
    "5.  \"Kms_Driven\": Numeric data type representing the number of kilometers driven by the car.\n",
    "\n",
    "6.  \"Fuel_Type\": Categorical data type representing the type of fuel used by the car.\n",
    "\n",
    "7.  \"Seller_Type\": Categorical data type representing the type of seller or dealership.\n",
    "\n",
    "8.  \"Transmission\": Categorical data type representing the type of transmission in the car.\n",
    "\n",
    "9.  \"Owner\": Categorical or ordinal data type representing the number of previous owners of the car.\n"
   ]
  },
  {
   "cell_type": "code",
   "execution_count": null,
   "id": "398d1b35",
   "metadata": {
    "execution": {
     "iopub.execute_input": "2023-05-18T15:26:19.982131Z",
     "iopub.status.busy": "2023-05-18T15:26:19.979841Z",
     "iopub.status.idle": "2023-05-18T15:26:20.031607Z"
    },
    "papermill": {
     "duration": null,
     "end_time": null,
     "exception": null,
     "start_time": null,
     "status": "pending"
    },
    "tags": []
   },
   "outputs": [],
   "source": [
    "unique(car_data$Year)\n",
    "unique(car_data$Seller_Type)\n",
    "unique(car_data$Transmission)\n",
    "unique(car_data$Fuel_Type)\n",
    "unique(car_data$Owner)"
   ]
  },
  {
   "cell_type": "markdown",
   "id": "e76cf19f",
   "metadata": {
    "papermill": {
     "duration": null,
     "end_time": null,
     "exception": null,
     "start_time": null,
     "status": "pending"
    },
    "tags": []
   },
   "source": [
    "The presented data depicts the distribution of car sale prices spanning from 2003 to 2017, with a focus on the prominent vendors in the market, classified based on their gearbox and fuel type. The focus of our analysis will be on the annual sales distribution and market performance of the presented vehicles.\n"
   ]
  },
  {
   "cell_type": "code",
   "execution_count": null,
   "id": "87c23e32",
   "metadata": {
    "execution": {
     "iopub.execute_input": "2023-05-18T15:35:21.766900Z",
     "iopub.status.busy": "2023-05-18T15:35:21.764191Z",
     "iopub.status.idle": "2023-05-18T15:35:21.792888Z"
    },
    "papermill": {
     "duration": null,
     "end_time": null,
     "exception": null,
     "start_time": null,
     "status": "pending"
    },
    "tags": []
   },
   "outputs": [],
   "source": [
    "\n",
    "# **Data presentation**\n",
    "is.null(car_data)\n",
    "#no null figures\n"
   ]
  },
  {
   "cell_type": "code",
   "execution_count": null,
   "id": "f131b439",
   "metadata": {
    "execution": {
     "iopub.execute_input": "2023-05-18T15:35:24.646950Z",
     "iopub.status.busy": "2023-05-18T15:35:24.645156Z",
     "iopub.status.idle": "2023-05-18T15:35:24.669376Z"
    },
    "papermill": {
     "duration": null,
     "end_time": null,
     "exception": null,
     "start_time": null,
     "status": "pending"
    },
    "tags": []
   },
   "outputs": [],
   "source": [
    "# Check if all columns are of character type\n",
    "all_character <- sapply(car_data, is.character)\n",
    "all_character"
   ]
  },
  {
   "cell_type": "markdown",
   "id": "049d7a3a",
   "metadata": {
    "papermill": {
     "duration": null,
     "end_time": null,
     "exception": null,
     "start_time": null,
     "status": "pending"
    },
    "tags": []
   },
   "source": [
    "# **Understanding the data**"
   ]
  },
  {
   "cell_type": "code",
   "execution_count": null,
   "id": "7099571d",
   "metadata": {
    "execution": {
     "iopub.execute_input": "2023-05-18T15:27:00.426543Z",
     "iopub.status.busy": "2023-05-18T15:27:00.423795Z",
     "iopub.status.idle": "2023-05-18T15:27:00.455422Z"
    },
    "papermill": {
     "duration": null,
     "end_time": null,
     "exception": null,
     "start_time": null,
     "status": "pending"
    },
    "tags": []
   },
   "outputs": [],
   "source": [
    "summary(car_data)"
   ]
  },
  {
   "cell_type": "markdown",
   "id": "4c6867df",
   "metadata": {
    "papermill": {
     "duration": null,
     "end_time": null,
     "exception": null,
     "start_time": null,
     "status": "pending"
    },
    "tags": []
   },
   "source": [
    "The provided description shows the summary statistics for each variable in the dataset:\n",
    "  \n",
    "  1.  Car_Name: This variable is of character data type. It has a length of 301, indicating there are 301 observations in the dataset. The variable shows the frequency count for each unique car name.\n",
    "\n",
    "2.  Year: This variable represents the year when the car was manufactured. It is of numeric data type. The summary statistics indicate the minimum year (2003), maximum year (2018), and quartiles (1st quartile: 2012, median: 2014, 3rd quartile: 2016).\n",
    "\n",
    "3.  Selling_Price: This variable represents the selling price of the car. It is of numeric data type. The summary statistics show the minimum selling price (0.100), maximum selling price (35.000), and quartiles (1st quartile: 0.900, median: 3.600, 3rd quartile: 6.000). The mean selling price is 4.661.\n",
    "\n",
    "4.  Present_Price: This variable represents the present price or current market value of the car. It is of numeric data type. The summary statistics display the minimum present price (0.320), maximum present price (92.600), and quartiles (1st quartile: 1.200, median: 6.400, 3rd quartile: 9.900). The mean present price is 7.628.\n",
    "\n",
    "5.  Kms_Driven: This variable represents the number of kilometers driven by the car. It is of numeric data type. The summary statistics indicate the minimum value (500), maximum value (500000), and quartiles (1st quartile: 15000, median: 32000, 3rd quartile: 48767). The mean number of kilometers driven is 36947.\n",
    "\n",
    "6.  Fuel_Type: This variable represents the type of fuel used by the car. It is of character data type. The summary statistics show the frequency count for each unique fuel type.\n",
    "\n",
    "7.  Seller_Type: This variable represents the type of seller or dealership from which the car is being sold. It is of character data type. The summary statistics display the frequency count for each unique seller type.\n",
    "\n",
    "8.  Transmission: This variable represents the type of transmission in the car. It is of character data type. The summary statistics show the frequency count for each unique transmission type.\n",
    "\n",
    "9.  Owner: This variable represents the number of previous owners of the car. It is of numeric data type. The summary statistics indicate the minimum number of owners (0), maximum number of owners (3), and quartiles (1st quartile: 0, median: 0, 3rd quartile: 0). The mean number of owners is 0.04319.\n",
    "\n",
    "\n"
   ]
  },
  {
   "cell_type": "markdown",
   "id": "0c9d454e",
   "metadata": {
    "papermill": {
     "duration": null,
     "end_time": null,
     "exception": null,
     "start_time": null,
     "status": "pending"
    },
    "tags": []
   },
   "source": [
    "# **Descriptive Analysis**"
   ]
  },
  {
   "cell_type": "code",
   "execution_count": null,
   "id": "ff38d62b",
   "metadata": {
    "execution": {
     "iopub.execute_input": "2023-05-18T15:39:25.417343Z",
     "iopub.status.busy": "2023-05-18T15:39:25.415597Z",
     "iopub.status.idle": "2023-05-18T15:39:31.646516Z"
    },
    "papermill": {
     "duration": null,
     "end_time": null,
     "exception": null,
     "start_time": null,
     "status": "pending"
    },
    "tags": []
   },
   "outputs": [],
   "source": [
    "install.packages(\"Hmisc\", repos = \"https://cloud.r-project.org/\")\n",
    "library('Hmisc')\n",
    "#great for data description and interaction"
   ]
  },
  {
   "cell_type": "code",
   "execution_count": null,
   "id": "9102828d",
   "metadata": {
    "execution": {
     "iopub.execute_input": "2023-05-18T15:40:31.997353Z",
     "iopub.status.busy": "2023-05-18T15:40:31.990388Z",
     "iopub.status.idle": "2023-05-18T15:40:32.070400Z"
    },
    "papermill": {
     "duration": null,
     "end_time": null,
     "exception": null,
     "start_time": null,
     "status": "pending"
    },
    "tags": []
   },
   "outputs": [],
   "source": [
    "summary(car_data$Car_Name)\n",
    "summary(car_data$Year)\n",
    "summary(car_data$Kms_Driven)\n",
    "summary(car_data$Fuel_Type)\n",
    "summary(car_data$Seller_Type)\n",
    "summary(car_data$Transmission)"
   ]
  },
  {
   "cell_type": "code",
   "execution_count": null,
   "id": "0c5cd258",
   "metadata": {
    "execution": {
     "iopub.execute_input": "2023-05-18T15:40:56.383913Z",
     "iopub.status.busy": "2023-05-18T15:40:56.381947Z",
     "iopub.status.idle": "2023-05-18T15:40:56.732835Z"
    },
    "papermill": {
     "duration": null,
     "end_time": null,
     "exception": null,
     "start_time": null,
     "status": "pending"
    },
    "tags": []
   },
   "outputs": [],
   "source": [
    "# Calculate the frequency of each year\n",
    "year_counts <- table(car_data$Year)\n",
    "\n",
    "# Create a bar plot\n",
    "barplot(year_counts,\n",
    "        xlab = \"Year\",\n",
    "        ylab = \"Frequency\",\n",
    "        main = \"Description of Year in car_data\",\n",
    "        col = \"lightyellow\")\n",
    "\n",
    "# Calculate the frequency of each year\n",
    "year_counts <- table(car_data$Seller_Type)\n",
    "\n",
    "# Create a bar plot\n",
    "barplot(year_counts,\n",
    "        xlab = \"Year\",\n",
    "        ylab = \"Frequency\",\n",
    "        main = \"Description of Year in car_data\",\n",
    "        col = \"yellow\")\n",
    "\n",
    "# Calculate the frequency of each year\n",
    "year_counts <- table(car_data$Fuel_Type)\n",
    "\n",
    "# Create a bar plot\n",
    "barplot(year_counts,\n",
    "        xlab = \"Year\",\n",
    "        ylab = \"Frequency\",\n",
    "        main = \"Description of Year in car_data\",\n",
    "        col = \"magenta\")\n",
    "# Calculate the frequency of each year\n",
    "year_counts <- table(car_data$Transmission)\n",
    "\n",
    "# Create a bar plot\n",
    "barplot(year_counts,\n",
    "        xlab = \"Year\",\n",
    "        ylab = \"Frequency\",\n",
    "        main = \"Description of Year in car_data\",\n",
    "        col = \"pink\")"
   ]
  },
  {
   "cell_type": "code",
   "execution_count": null,
   "id": "07a27173",
   "metadata": {
    "execution": {
     "iopub.execute_input": "2023-05-18T15:41:02.145839Z",
     "iopub.status.busy": "2023-05-18T15:41:02.143862Z",
     "iopub.status.idle": "2023-05-18T15:41:02.646342Z"
    },
    "papermill": {
     "duration": null,
     "end_time": null,
     "exception": null,
     "start_time": null,
     "status": "pending"
    },
    "tags": []
   },
   "outputs": [],
   "source": [
    "# Calculate the frequency count of each car name\n",
    "car_freq <- car_data %>% count(Car_Name, sort = TRUE)\n",
    "\n",
    "# Select the top 10 most common car names\n",
    "top_10_cars <- head(car_freq, 10)\n",
    "\n",
    "# Create the plot\n",
    "ggplot(top_10_cars, aes(x = reorder(Car_Name, n), y = n)) +\n",
    "  geom_col(fill = \"violet\") +\n",
    "  geom_text(aes(label = n), vjust = -0.5, size = 4) +\n",
    "  labs(x = \"Car Name\", y = \"Frequency Count\", title = \"Top 10 Most Common Car Names\") +\n",
    "  theme_minimal() +\n",
    "  theme(axis.text.x = element_text(angle = 90, hjust = 1))\n",
    "\n",
    "print(top_10_cars)\n",
    "\n"
   ]
  },
  {
   "cell_type": "code",
   "execution_count": null,
   "id": "634b7de9",
   "metadata": {
    "execution": {
     "iopub.execute_input": "2023-05-18T15:41:07.863728Z",
     "iopub.status.busy": "2023-05-18T15:41:07.861671Z",
     "iopub.status.idle": "2023-05-18T15:41:07.903860Z"
    },
    "papermill": {
     "duration": null,
     "end_time": null,
     "exception": null,
     "start_time": null,
     "status": "pending"
    },
    "tags": []
   },
   "outputs": [],
   "source": [
    "# Calculate minimum and maximum values of Selling_Price column\n",
    "if (any(!is.na(car_data$Selling_Price))) {\n",
    "  min_value <- min(car_data$Selling_Price, na.rm = TRUE)\n",
    "  max_value <- max(car_data$Selling_Price, na.rm = TRUE)\n",
    "} else {\n",
    "  min_value <- NA\n",
    "  max_value <- NA\n",
    "}\n",
    "min_value\n",
    "max_value\n",
    "\n",
    "# Calculate minimum and maximum values of Selling_Price column\n",
    "if (any(!is.na(car_data$Selling_Price))) {\n",
    "  min_value <- min(car_data$Present_Price, na.rm = TRUE)\n",
    "  max_value <- max(car_data$Present_Price, na.rm = TRUE)\n",
    "} else {\n",
    "  min_value <- NA\n",
    "  max_value <- NA\n",
    "}\n",
    "min_value\n",
    "max_value"
   ]
  },
  {
   "cell_type": "code",
   "execution_count": null,
   "id": "ffaf4428",
   "metadata": {
    "execution": {
     "iopub.execute_input": "2023-05-18T15:41:25.016262Z",
     "iopub.status.busy": "2023-05-18T15:41:25.014153Z",
     "iopub.status.idle": "2023-05-18T15:41:25.476871Z"
    },
    "papermill": {
     "duration": null,
     "end_time": null,
     "exception": null,
     "start_time": null,
     "status": "pending"
    },
    "tags": []
   },
   "outputs": [],
   "source": [
    "summary(car_data$Present_Price)\n",
    "summary(car_data$Selling_Price)\n",
    "\n",
    "library(ggplot2)#loading up visualisation package\n",
    "\n",
    "# Create a box plot for Selling_Price\n",
    "ggplot(car_data, aes(x = \"\", y = Selling_Price)) +\n",
    "  geom_boxplot(fill=\"lightblue\") +\n",
    "  labs(title = \"Box Plot of Selling Price\",\n",
    "       x = \"\",\n",
    "       y = \"Selling Price\")+\n",
    "  stat_summary(fun = mean, geom = \"point\", shape = 18, color = \"darkred\", size = 5) +\n",
    "  stat_summary(fun.data = function(y) {\n",
    "    median <- median(y)\n",
    "    q1 <- quantile(y, 0.25)\n",
    "    q3 <- quantile(y, 0.75)\n",
    "    data.frame(y = c(q1, median, q3), label = c(\"Q1\", \"Median\", \"Q3\"))\n",
    "  }, geom = \"text\", vjust = -1, size = 3) +\n",
    "  theme_minimal()"
   ]
  },
  {
   "cell_type": "code",
   "execution_count": null,
   "id": "eb45b950",
   "metadata": {
    "execution": {
     "iopub.execute_input": "2023-05-18T15:41:28.811948Z",
     "iopub.status.busy": "2023-05-18T15:41:28.809955Z",
     "iopub.status.idle": "2023-05-18T15:41:29.201838Z"
    },
    "papermill": {
     "duration": null,
     "end_time": null,
     "exception": null,
     "start_time": null,
     "status": "pending"
    },
    "tags": []
   },
   "outputs": [],
   "source": [
    "#present price\n",
    "# Create a box plot for Present_Price\n",
    "ggplot(car_data, aes(x = \"\", y = Present_Price)) +\n",
    "  geom_boxplot(fill=\"red\") +\n",
    "  labs(title = \"Box Plot of Present Price\",\n",
    "       x = \"\",\n",
    "       y = \"Present Price\")+\n",
    "  stat_summary(fun = mean, geom = \"point\", shape = 18, color = \"white\", size = 5) +\n",
    "  stat_summary(fun.data = function(y) {\n",
    "    median <- median(y)\n",
    "    q1 <- quantile(y, 0.25)\n",
    "    q3 <- quantile(y, 0.75)\n",
    "    data.frame(y = c(q1, median, q3), label = c(\"Q1\", \"Median\", \"Q3\"))\n",
    "  }, geom = \"text\", vjust = -0.8, size = 3) +\n",
    "  theme_minimal()\n",
    "\n"
   ]
  },
  {
   "cell_type": "code",
   "execution_count": null,
   "id": "3b248011",
   "metadata": {
    "execution": {
     "iopub.execute_input": "2023-05-18T15:41:33.597826Z",
     "iopub.status.busy": "2023-05-18T15:41:33.596165Z",
     "iopub.status.idle": "2023-05-18T15:41:33.917441Z"
    },
    "papermill": {
     "duration": null,
     "end_time": null,
     "exception": null,
     "start_time": null,
     "status": "pending"
    },
    "tags": []
   },
   "outputs": [],
   "source": [
    "# Create a box plot for Kms_driven\n",
    "ggplot(car_data, aes(x = \"\", y = Kms_Driven)) +\n",
    "  geom_boxplot(fill=\"gray\") +\n",
    "  labs(title = \"Box Plot of Kms_Driven\",\n",
    "       x = \"\",\n",
    "       y = \"Kms_Driven\")+\n",
    "  stat_summary(fun = mean, geom = \"point\", shape = 18, color = \"red\", size = 4) +\n",
    "  stat_summary(fun.data = function(y) {\n",
    "    median <- median(y)\n",
    "    q1 <- quantile(y, 0.25)\n",
    "    q3 <- quantile(y, 0.75)\n",
    "    data.frame(y = c(q1, median, q3), label = c(\"Q1\", \"Median\", \"Q3\"))\n",
    "  }, geom = \"text\", vjust = -0.8, size = 3) +\n",
    "  theme_minimal()\n"
   ]
  },
  {
   "cell_type": "code",
   "execution_count": null,
   "id": "e754e7bc",
   "metadata": {
    "execution": {
     "iopub.execute_input": "2023-05-18T15:41:37.645746Z",
     "iopub.status.busy": "2023-05-18T15:41:37.643952Z",
     "iopub.status.idle": "2023-05-18T15:41:37.783031Z"
    },
    "papermill": {
     "duration": null,
     "end_time": null,
     "exception": null,
     "start_time": null,
     "status": "pending"
    },
    "tags": []
   },
   "outputs": [],
   "source": [
    "# Compute correlation matrix\n",
    "cor_matrix <- cor(car_data$Selling_Price, car_data$Present_Price)\n",
    "\n",
    "cor_matrix\n",
    "# Create heatmap\n",
    "# Create scatter plot\n",
    "plot(car_data$Present_Price, car_data$Selling_Price,\n",
    "     main = \"Scatter Plot: Selling Price vs Present Price\",\n",
    "     xlab = \"Present Price\",\n",
    "     ylab = \"Selling Price\",\n",
    "     pch = 16,\n",
    "     col = \"blue\")\n",
    "\n",
    "# Add gridlines\n",
    "grid()\n",
    "\n",
    "# Add a regression line\n",
    "abline(lm(Selling_Price ~ Present_Price, data = car_data), col = \"red\")"
   ]
  },
  {
   "cell_type": "code",
   "execution_count": null,
   "id": "987e4749",
   "metadata": {
    "execution": {
     "iopub.execute_input": "2023-05-18T15:41:43.279425Z",
     "iopub.status.busy": "2023-05-18T15:41:43.277591Z",
     "iopub.status.idle": "2023-05-18T15:41:43.308085Z"
    },
    "papermill": {
     "duration": null,
     "end_time": null,
     "exception": null,
     "start_time": null,
     "status": "pending"
    },
    "tags": []
   },
   "outputs": [],
   "source": [
    "# Select relevant variables for correlation analysis\n",
    "selected_vars <- c(\"Selling_Price\", \"Present_Price\", \"Kms_Driven\")\n",
    "\n",
    "# Compute correlation matrix\n",
    "correlation_matrix <- cor(car_data[selected_vars])\n",
    "\n",
    "correlation_matrix"
   ]
  },
  {
   "cell_type": "markdown",
   "id": "7e6ce52f",
   "metadata": {
    "papermill": {
     "duration": null,
     "end_time": null,
     "exception": null,
     "start_time": null,
     "status": "pending"
    },
    "tags": []
   },
   "source": [
    "The correlation data provided shows the correlation coefficients between the variables Selling_Price, Present_Price, and Kms_Driven. Here's a description of the correlation data:\n",
    "\n",
    "-   Selling_Price vs. Selling_Price: The correlation coefficient between Selling_Price and itself is 1. This indicates a perfect positive correlation since it is the correlation of the variable with itself.\n",
    "\n",
    "-   Selling_Price vs. Present_Price: The correlation coefficient between Selling_Price and Present_Price is 0.8789825. This indicates a strong positive correlation between the two variables. As Selling_Price increases, Present_Price tends to increase as well.\n",
    "\n",
    "-   Selling_Price vs. Kms_Driven: The correlation coefficient between Selling_Price and Kms_Driven is 0.02918709. This indicates a very weak positive correlation between the two variables. There is little to no linear relationship between Selling_Price and Kms_Driven.\n",
    "\n",
    "-   Present_Price vs. Present_Price: The correlation coefficient between Present_Price and itself is 1. This indicates a perfect positive correlation since it is the correlation of the variable with itself.\n",
    "\n",
    "-   Present_Price vs. Kms_Driven: The correlation coefficient between Present_Price and Kms_Driven is 0.20364703. This indicates a weak positive correlation between the two variables. As Present_Price increases, Kms_Driven tends to increase, but the relationship is not very strong.\n",
    "\n",
    "-   Kms_Driven vs. Kms_Driven: The correlation coefficient between Kms_Driven and itself is 1. This indicates a perfect positive correlation since it is the correlation of the variable with itself.\n",
    "\n",
    "In summary, Selling_Price and Present_Price have a strong positive correlation, while Selling_Price and Kms_Driven have a very weak positive correlation. Present_Price and Kms_Driven also have a weak positive correlation.\n"
   ]
  },
  {
   "cell_type": "code",
   "execution_count": null,
   "id": "aabe5e03",
   "metadata": {
    "execution": {
     "iopub.execute_input": "2023-05-18T15:41:47.580856Z",
     "iopub.status.busy": "2023-05-18T15:41:47.578603Z",
     "iopub.status.idle": "2023-05-18T15:41:47.702955Z"
    },
    "papermill": {
     "duration": null,
     "end_time": null,
     "exception": null,
     "start_time": null,
     "status": "pending"
    },
    "tags": []
   },
   "outputs": [],
   "source": [
    "# Create heatmap with labels and correct sizes\n",
    "heatmap(correlation_matrix,\n",
    "        col = colorRampPalette(c(\"blue\", \"white\", \"orange\"))(100),\n",
    "        scale = \"none\",\n",
    "        main = \"Correlation Heatmap: Selling Price, Present Price, Kms Driven\",\n",
    "        labRow = selected_vars,\n",
    "        labCol = selected_vars,\n",
    "        cexRow = 0.8,  # Adjust the size of row labels\n",
    "        cexCol = 0.8)  # Adjust the size of column labelsxlab = \"Variables\","
   ]
  },
  {
   "cell_type": "markdown",
   "id": "65076c44",
   "metadata": {
    "papermill": {
     "duration": null,
     "end_time": null,
     "exception": null,
     "start_time": null,
     "status": "pending"
    },
    "tags": []
   },
   "source": [
    "# **Plot the data**"
   ]
  },
  {
   "cell_type": "code",
   "execution_count": null,
   "id": "a85fb320",
   "metadata": {
    "execution": {
     "iopub.execute_input": "2023-05-18T15:41:52.513818Z",
     "iopub.status.busy": "2023-05-18T15:41:52.508848Z",
     "iopub.status.idle": "2023-05-18T15:41:52.927674Z"
    },
    "papermill": {
     "duration": null,
     "end_time": null,
     "exception": null,
     "start_time": null,
     "status": "pending"
    },
    "tags": []
   },
   "outputs": [],
   "source": [
    "# Create a bar plot with fitted scale\n",
    "ggplot(car_data, aes(x = Year, y = Selling_Price, fill = Fuel_Type)) +\n",
    "  geom_bar(stat = \"identity\", position = \"dodge\") +\n",
    "  labs(x = \"Year\", y = \"Selling Price\", title = \"Number of Yearly Sales\") +\n",
    "  theme(axis.text.x = element_text(angle = 0)) +\n",
    "  scale_fill_manual(values = c(\"darkblue\", \"darkred\", \"darkgreen\")) +\n",
    "  coord_cartesian(ylim = c(0, max(car_data$Selling_Price, na.rm = TRUE)))\n",
    " # Fit the scale"
   ]
  },
  {
   "cell_type": "code",
   "execution_count": null,
   "id": "03b64962",
   "metadata": {
    "execution": {
     "iopub.execute_input": "2023-05-18T15:41:57.062683Z",
     "iopub.status.busy": "2023-05-18T15:41:57.060868Z",
     "iopub.status.idle": "2023-05-18T15:41:57.469999Z"
    },
    "papermill": {
     "duration": null,
     "end_time": null,
     "exception": null,
     "start_time": null,
     "status": "pending"
    },
    "tags": []
   },
   "outputs": [],
   "source": [
    "ggplot(car_data, aes(x = Year, y = Present_Price, fill = Fuel_Type)) +\n",
    "  geom_bar(stat = \"identity\", position = \"dodge\") +\n",
    "  labs(x = \"Year\", y = \"Present Price\", title = \"Number of Yearly Sales\") +\n",
    "  theme(axis.text.x = element_text(angle = 0)) +\n",
    "  scale_fill_manual(values = c(\"darkblue\", \"darkred\", \"darkgreen\")) +\n",
    "  coord_cartesian(ylim = c(0, max(car_data$Selling_Price, na.rm = TRUE)))\n",
    " # Fit the scale\n"
   ]
  },
  {
   "cell_type": "code",
   "execution_count": null,
   "id": "e5d0a39c",
   "metadata": {
    "execution": {
     "iopub.execute_input": "2023-05-18T15:42:07.502617Z",
     "iopub.status.busy": "2023-05-18T15:42:07.495699Z",
     "iopub.status.idle": "2023-05-18T15:42:08.165160Z"
    },
    "papermill": {
     "duration": null,
     "end_time": null,
     "exception": null,
     "start_time": null,
     "status": "pending"
    },
    "tags": []
   },
   "outputs": [],
   "source": [
    "\n",
    "library('dplyr')\n",
    "\n",
    "filtered_data <- car_data %>%\n",
    "  group_by(Year) %>%\n",
    "  filter(n() >= 2)  # Filter groups with at least two data points\n",
    "\n",
    "ggplot(filtered_data, aes(x = Year, y = Selling_Price, fill = \"Selling Price\")) +\n",
    "  geom_violin(width = 0.6, fill = \"darkred\", alpha = 0.7) +\n",
    "  geom_violin(aes(y = Present_Price, fill = \"Present Price\"), width = 0.6, fill = \"lightyellow\", alpha = 0.7) +\n",
    "  labs(x = \"Year\", y = \"Price\", title = \"Selling Price and Present Price over the Years\") +\n",
    "  theme_minimal() +\n",
    "  theme(plot.title = element_text(size = 16, face = \"bold\"),\n",
    "        axis.title.x = element_text(size = 14),\n",
    "        axis.title.y = element_text(size = 14),\n",
    "        axis.text.x = element_text(size = 12, angle = 45, hjust = 1))"
   ]
  },
  {
   "cell_type": "code",
   "execution_count": null,
   "id": "d74430ec",
   "metadata": {
    "execution": {
     "iopub.execute_input": "2023-05-18T15:42:12.712749Z",
     "iopub.status.busy": "2023-05-18T15:42:12.710601Z",
     "iopub.status.idle": "2023-05-18T15:42:13.126188Z"
    },
    "papermill": {
     "duration": null,
     "end_time": null,
     "exception": null,
     "start_time": null,
     "status": "pending"
    },
    "tags": []
   },
   "outputs": [],
   "source": [
    "ggplot(car_data, aes(x = Year, y = Present_Price, fill = Fuel_Type)) +\n",
    "  geom_bar(stat = \"identity\", position = \"dodge\") +\n",
    "  labs(x = \"Year\", y = \"Present Price\", title = \"Number of Yearly Sales\") +\n",
    "  theme(axis.text.x = element_text(angle = 0)) +\n",
    "  scale_fill_manual(values = c(\"blue\", \"red\", \"darkgreen\")) +\n",
    "  coord_cartesian(ylim = c(0, max(car_data$Selling_Price, na.rm = TRUE)))\n",
    " # Fit the scale"
   ]
  },
  {
   "cell_type": "markdown",
   "id": "e63d4b59",
   "metadata": {
    "papermill": {
     "duration": null,
     "end_time": null,
     "exception": null,
     "start_time": null,
     "status": "pending"
    },
    "tags": []
   },
   "source": [
    "**Prediction**"
   ]
  },
  {
   "cell_type": "code",
   "execution_count": null,
   "id": "868258fb",
   "metadata": {
    "execution": {
     "iopub.execute_input": "2023-05-18T15:42:17.061584Z",
     "iopub.status.busy": "2023-05-18T15:42:17.059655Z",
     "iopub.status.idle": "2023-05-18T15:42:17.092884Z"
    },
    "papermill": {
     "duration": null,
     "end_time": null,
     "exception": null,
     "start_time": null,
     "status": "pending"
    },
    "tags": []
   },
   "outputs": [],
   "source": [
    "# Fit linear regression model\n",
    "lm_model <- lm(Present_Price ~ Selling_Price, data = car_data)\n",
    "\n",
    "# Predict present prices\n",
    "predicted_prices <- predict(lm_model, newdata = car_data)\n",
    "summary(predicted_prices)\n",
    "\n",
    "\n",
    "\n",
    "\n"
   ]
  },
  {
   "cell_type": "markdown",
   "id": "b5621b48",
   "metadata": {
    "papermill": {
     "duration": null,
     "end_time": null,
     "exception": null,
     "start_time": null,
     "status": "pending"
    },
    "tags": []
   },
   "source": [
    "The output you provided shows the summary statistics of the predicted prices based on the linear regression model. Here's what each statistic represents:\n",
    "  \n",
    "  Min: The minimum predicted price. 1st Qu.: The value below which 25% of the predicted prices fall. This is the first quartile. Median: The median predicted price, which represents the middle value of the distribution. 50% of the predicted prices are below this value. Mean: The average predicted price, calculated as the sum of all predicted prices divided by the number of predictions. 3rd Qu.: The value below which 75% of the predicted prices fall. This is the third quartile. Max: The maximum predicted price."
   ]
  },
  {
   "cell_type": "code",
   "execution_count": null,
   "id": "44a3c817",
   "metadata": {
    "execution": {
     "iopub.execute_input": "2023-05-18T15:42:22.148386Z",
     "iopub.status.busy": "2023-05-18T15:42:22.146568Z",
     "iopub.status.idle": "2023-05-18T15:42:23.799895Z"
    },
    "papermill": {
     "duration": null,
     "end_time": null,
     "exception": null,
     "start_time": null,
     "status": "pending"
    },
    "tags": []
   },
   "outputs": [],
   "source": [
    "# Create a scatter plot with regression line\n",
    "ggplot(car_data, aes(x = Selling_Price, y = Present_Price)) +\n",
    "  geom_point() +\n",
    "  geom_smooth(method = \"lm\", se = FALSE, color = \"red\") +\n",
    "  labs(x = \"Selling Price\", y = \"Present Price\", title = \"Linear Regression: Present Price vs Selling Price\") +\n",
    "  theme_minimal() +\n",
    "  theme(plot.title = element_text(size = 16, face = \"bold\"),\n",
    "        axis.title.x = element_text(size = 14),\n",
    "        axis.title.y = element_text(size = 14))"
   ]
  },
  {
   "cell_type": "markdown",
   "id": "407729f5",
   "metadata": {
    "papermill": {
     "duration": null,
     "end_time": null,
     "exception": null,
     "start_time": null,
     "status": "pending"
    },
    "tags": []
   },
   "source": [
    "In this code, we first fit a linear regression model using the lm() function, with Present_Price as the response variable and Selling_Price as the predictor variable. We then use the predict() function to obtain the predicted present prices based on the model.\n",
    "\n",
    "Next, we create a scatter plot of the actual present prices (Present_Price) against the selling prices (Selling_Price) using geom_point(). We add a regression line to the plot using geom_smooth() with method = \"lm\" to indicate linear regression. The se = FALSE argument is used to suppress the display of the standard error band around the regression line.\n",
    "\n",
    "Finally, we add labels and adjust the theme settings to customize the plot appearance.\n",
    "\n"
   ]
  },
  {
   "cell_type": "code",
   "execution_count": null,
   "id": "cb5b9db9",
   "metadata": {
    "execution": {
     "iopub.execute_input": "2023-05-18T15:42:28.111733Z",
     "iopub.status.busy": "2023-05-18T15:42:28.109768Z",
     "iopub.status.idle": "2023-05-18T15:42:28.234655Z"
    },
    "papermill": {
     "duration": null,
     "end_time": null,
     "exception": null,
     "start_time": null,
     "status": "pending"
    },
    "tags": []
   },
   "outputs": [],
   "source": [
    "# Calculate residuals\n",
    "residuals <- car_data$Present_Price - predicted_prices\n",
    "# Create a residual plot\n",
    "plot(predicted_prices, residuals, xlab = \"Predicted Prices\", ylab = \"Residuals\", main = \"Residual Plot\")\n",
    "abline(h = 0, col = \"red\")  # Add a horizontal line at y = 0\n",
    "describe(residuals)"
   ]
  },
  {
   "cell_type": "markdown",
   "id": "8b4f6589",
   "metadata": {
    "papermill": {
     "duration": null,
     "end_time": null,
     "exception": null,
     "start_time": null,
     "status": "pending"
    },
    "tags": []
   },
   "source": [
    "This data represents summary statistics for the residuals in a simple and understandable way:\n",
    "  \n",
    "  -   `n`: Indicates the total number of observations, which is 301 in this case.\n",
    "-   `missing`: Represents the number of missing values, which is 0. This means there are no missing values in the residuals.\n",
    "-   `distinct`: Refers to the number of distinct or unique values in the residuals. In this case, there are 285 distinct values.\n",
    "-   `Info`: Represents the amount of information or uniqueness in the residuals. A value of 1 means all the residuals have unique values.\n",
    "-   `Mean`: Represents the average value of the residuals, which is very close to zero (-5.542e-15). This suggests that, on average, the residuals are centered around zero.\n",
    "-   `Gmd`: Represents the median absolute deviation from the median. It is a measure of dispersion or spread of the residuals. In this case, it is 3.4, indicating a moderate spread.\n",
    "-   `.05`, `.10`, `.25`, `.50`, `.75`, `.90`, `.95`: These values represent percentiles of the residuals. For example, `.25` represents the 25th percentile or the lower quartile, and `.75` represents the 75th percentile or the upper quartile. These percentiles provide information about the distribution of the residuals.\n",
    "-   `lowest` and `highest`: These values represent the minimum and maximum values in the residuals, respectively. The lowest value is -13.7605, and the highest value is 39.6198, indicating the range of the residuals.\n",
    "\n",
    "In simpler terms, the summary statistics show that the residuals have a relatively normal distribution around zero, with some variability. The minimum and maximum values show the range of the residuals, indicating the extent of deviations from the predicted values.\n"
   ]
  }
 ],
 "metadata": {
  "kernelspec": {
   "display_name": "R",
   "language": "R",
   "name": "ir"
  },
  "language_info": {
   "codemirror_mode": "r",
   "file_extension": ".r",
   "mimetype": "text/x-r-source",
   "name": "R",
   "pygments_lexer": "r",
   "version": "4.0.5"
  },
  "papermill": {
   "default_parameters": {},
   "duration": 318.99113,
   "end_time": "2023-05-18T16:02:33.432479",
   "environment_variables": {},
   "exception": true,
   "input_path": "__notebook__.ipynb",
   "output_path": "__notebook__.ipynb",
   "parameters": {},
   "start_time": "2023-05-18T15:57:14.441349",
   "version": "2.4.0"
  }
 },
 "nbformat": 4,
 "nbformat_minor": 5
}
